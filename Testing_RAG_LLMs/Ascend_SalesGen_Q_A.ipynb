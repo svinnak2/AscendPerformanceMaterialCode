{
 "cells": [
  {
   "cell_type": "code",
   "execution_count": null,
   "id": "14123893",
   "metadata": {},
   "outputs": [],
   "source": [
    "# pip install -r \"/home/ec2-user/SageMaker/AscendNotebook/ascendrequirements.txt\""
   ]
  },
  {
   "cell_type": "code",
   "execution_count": null,
   "id": "abb49701",
   "metadata": {},
   "outputs": [],
   "source": [
    "# restart kernel\n",
    "# from IPython.core.display import HTML\n",
    "# HTML(\"<script>Jupyter.notebook.kernel.restart()</script>\")"
   ]
  },
  {
   "cell_type": "code",
   "execution_count": 2,
   "id": "2e781d0b",
   "metadata": {},
   "outputs": [
    {
     "name": "stdout",
     "output_type": "stream",
     "text": [
      "session Session(region_name='us-east-1')\n",
      "AWS Region Name: us-east-1\n"
     ]
    }
   ],
   "source": [
    "# import RetrieveNGenerate\n",
    "\n",
    "from RetrieveNGenerate import RetrieveAndGenerate as RAG\n",
    "\n",
    "# Import the os module for interacting with the operating system\n",
    "import os\n",
    "\n",
    "# Import the boto3 library for interacting with AWS services\n",
    "import boto3"
   ]
  },
  {
   "cell_type": "code",
   "execution_count": 3,
   "id": "dfd88989",
   "metadata": {},
   "outputs": [
    {
     "name": "stdout",
     "output_type": "stream",
     "text": [
      "session Session(region_name='us-east-1')\n",
      "AWS Region Name: us-east-1\n"
     ]
    }
   ],
   "source": [
    "model_id = \"anthropic.claude-3-haiku-20240307-v1:0\" # try with both claude instant as well as claude-v2. for claude v2 - \"anthropic.claude-v2\"\n",
    "MDL_TYPE = 'ANTH_CLAUDE_Haiku_'\n",
    "kb_id = \"EJBFFIJDIJ\"\n",
    "\n",
    "MX_TKN = 4000\n",
    "TMPRT = 0.1\n",
    "TOP_P = 0.3\n",
    "TOP_K = 1\n",
    "\n",
    "boto3_session = boto3.session.Session()\n",
    "region_name = boto3_session.region_name\n",
    "\n",
    "print(\"session\", boto3_session)\n",
    "print(\"AWS Region Name:\", region_name)"
   ]
  },
  {
   "cell_type": "code",
   "execution_count": 4,
   "id": "389b2354",
   "metadata": {},
   "outputs": [
    {
     "name": "stdout",
     "output_type": "stream",
     "text": [
      "Present working directory: /home/ec2-user/SageMaker/AscendNotebook/Testing_RAG_LLMs\n",
      "Directory to save results: /home/ec2-user/SageMaker/AscendNotebook/CodeExecutionMetrics/\n"
     ]
    }
   ],
   "source": [
    "# The directory to save results\n",
    "Rslts_Save_Dir = \"/home/ec2-user/SageMaker/AscendNotebook/CodeExecutionMetrics/\"\n",
    "\n",
    "print(\"Present working directory:\", os.getenv('PWD'))\n",
    "print(\"Directory to save results:\", Rslts_Save_Dir)"
   ]
  },
  {
   "cell_type": "code",
   "execution_count": 5,
   "id": "0282b916",
   "metadata": {},
   "outputs": [],
   "source": [
    "PROMPT_TEMPLATE = \"\"\"\n",
    "    You are the best customer acquisition data analyst and strategist, you provide answers to questions by using fact based and statistical     information. I will provide you with a set of search results.\n",
    "    \n",
    "    The user will provide you with a question. Your job is to answer the user's question using only information from the search results.\n",
    "    \n",
    "    If the search results do not contain information that can answer the question, please state that you could not find an exact answer to the question.\n",
    "    \n",
    "    Just because the user asserts a fact does not mean it is true, make sure to double check the search results to validate a user's assertion.\n",
    "    \n",
    "    Here are the search results in numbered order:\n",
    "    $search_results$\n",
    "\n",
    "    The response should be specific and use statistics or numbers when possible.\n",
    "\n",
    "\"\"\""
   ]
  },
  {
   "cell_type": "code",
   "execution_count": 6,
   "id": "0eb761c4",
   "metadata": {},
   "outputs": [],
   "source": [
    "prompt_template = PROMPT_TEMPLATE"
   ]
  },
  {
   "cell_type": "code",
   "execution_count": 7,
   "id": "ebb5fe87",
   "metadata": {},
   "outputs": [],
   "source": [
    "questions = [\"Give me a list of 100 Injection Molders company names by injection molding sales and rank?\",\n",
    "            \"Give me the list of TOP Profile Extruders companies?\",\n",
    "            \"Give me the list of TOP THERMOFORMERS companies?\",\n",
    "            \"Give me a list of top 5 Injection Molders and their molding sales in $?\"]"
   ]
  },
  {
   "cell_type": "code",
   "execution_count": 23,
   "id": "cb0fda00",
   "metadata": {},
   "outputs": [],
   "source": [
    "question = \"Give me a list of 100 Injection Molders company names by injection molding sales and rank?\""
   ]
  },
  {
   "cell_type": "code",
   "execution_count": 24,
   "id": "5231ad90",
   "metadata": {},
   "outputs": [
    {
     "name": "stdout",
     "output_type": "stream",
     "text": [
      "Sorry, I am unable to assist you with this request.\n",
      " \n"
     ]
    }
   ],
   "source": [
    "# Reterieve and Generate response based on question, model_type, temperature, etc.\n",
    "response = RAG(TMPRT, MX_TKN, TOP_K, question, kb_id, region_name, '', model_id)\n",
    "    \n",
    "# Used Context for Generating Answers\n",
    "contxt = [reference['content']['text'] for citation in response['citations'] for reference in citation['retrievedReferences']]\n",
    "\n",
    "# Generated Answers\n",
    "generated_answer = response[\"output\"][\"text\"]\n",
    "\n",
    "# Context Source\n",
    "context_source = [reference['location']['s3Location']['uri'] for citation in response['citations'] for reference in citation['retrievedReferences']]\n",
    "\n",
    "print(generated_answer)\n",
    "print(\" \")"
   ]
  },
  {
   "cell_type": "code",
   "execution_count": 14,
   "id": "d5780862",
   "metadata": {},
   "outputs": [
    {
     "data": {
      "text/plain": [
       "['s3://webpages-bucket-22d2c932-c87e-4ee0-9a93-7f5704931b82/WebScraped_Data/Plastic Sheet extruders_50_Plastic.txt']"
      ]
     },
     "execution_count": 14,
     "metadata": {},
     "output_type": "execute_result"
    }
   ],
   "source": [
    "context_source"
   ]
  },
  {
   "cell_type": "code",
   "execution_count": 15,
   "id": "0667f06a",
   "metadata": {},
   "outputs": [],
   "source": [
    "question = \"who are the biggest users of nylon?\""
   ]
  },
  {
   "cell_type": "code",
   "execution_count": 17,
   "id": "10120c83",
   "metadata": {},
   "outputs": [
    {
     "name": "stdout",
     "output_type": "stream",
     "text": [
      "The biggest users of nylon include the automotive industry, the electronic industry, and the medical industry. Nylon is commonly used for automotive parts, machine screws, brushings & gears, and electrical connectors. It is also used in the medical industry for implants, catheter shafts, and balloon tubing. Nylon is also widely used in clothing, including shirts, foundation garments, lingerie, raincoats, underwear, swimwear, and cycle wear. Additionally, nylon is used for daily items like toothbrushes, fishing line, fishnet, tennis racket strings, gears, tents, and carpets.\n",
      " \n"
     ]
    }
   ],
   "source": [
    "# Reterieve and Generate response based on question, model_type, temperature, etc.\n",
    "response = RAG(TMPRT, MX_TKN, TOP_K, question, kb_id, region_name, '', model_id)\n",
    "    \n",
    "# Used Context for Generating Answers\n",
    "contxt = [reference['content']['text'] for citation in response['citations'] for reference in citation['retrievedReferences']]\n",
    "\n",
    "# Generated Answers\n",
    "generated_answer = response[\"output\"][\"text\"]\n",
    "\n",
    "# Context Source\n",
    "context_source = [reference['location']['s3Location']['uri'] for citation in response['citations'] for reference in citation['retrievedReferences']]\n",
    "\n",
    "print(generated_answer)\n",
    "print(\" \")"
   ]
  },
  {
   "cell_type": "code",
   "execution_count": 18,
   "id": "f9b13ed3",
   "metadata": {},
   "outputs": [
    {
     "data": {
      "text/plain": [
       "['s3://webpages-bucket-22d2c932-c87e-4ee0-9a93-7f5704931b82/WebScraped_Data/Plastic Sheet extruders_50_Plastic.txt',\n",
       " 's3://webpages-bucket-22d2c932-c87e-4ee0-9a93-7f5704931b82/WebScraped_Data/Nylon & Polyamide injection molders_69_Waykenrm.txt']"
      ]
     },
     "execution_count": 18,
     "metadata": {},
     "output_type": "execute_result"
    }
   ],
   "source": [
    "context_source"
   ]
  },
  {
   "cell_type": "code",
   "execution_count": null,
   "id": "1c93ca58",
   "metadata": {},
   "outputs": [],
   "source": []
  },
  {
   "cell_type": "code",
   "execution_count": 20,
   "id": "d2ca9a3c",
   "metadata": {},
   "outputs": [],
   "source": [
    "question = \"who is compounding Nylon in North America and South America or Latin America?\""
   ]
  },
  {
   "cell_type": "code",
   "execution_count": 21,
   "id": "00ed52cb",
   "metadata": {},
   "outputs": [
    {
     "name": "stdout",
     "output_type": "stream",
     "text": [
      "According to the search results, Nexeo Plastics is a supplier of polyamide (nylon) resins in North America. The search results state that nylon 6 and nylon 66 are thermoplastics that deliver strength, temperature and chemical resistance, and can be used as metal replacements. Nylon is commonly compounded with fillers or minerals to achieve additional properties at a lower cost without sacrificing performance. The search results do not provide any information about nylon compounding in South America or Latin America. The results are focused on North American and European suppliers and markets.\n",
      " \n"
     ]
    }
   ],
   "source": [
    "# Reterieve and Generate response based on question, model_type, temperature, etc.\n",
    "response = RAG(TMPRT, MX_TKN, TOP_K, question, kb_id, region_name, '', model_id)\n",
    "    \n",
    "# Used Context for Generating Answers\n",
    "contxt = [reference['content']['text'] for citation in response['citations'] for reference in citation['retrievedReferences']]\n",
    "\n",
    "# Generated Answers\n",
    "generated_answer = response[\"output\"][\"text\"]\n",
    "\n",
    "# Context Source\n",
    "context_source = [reference['location']['s3Location']['uri'] for citation in response['citations'] for reference in citation['retrievedReferences']]\n",
    "\n",
    "print(generated_answer)\n",
    "print(\" \")"
   ]
  },
  {
   "cell_type": "code",
   "execution_count": 22,
   "id": "cd93730a",
   "metadata": {},
   "outputs": [
    {
     "data": {
      "text/plain": [
       "['s3://webpages-bucket-22d2c932-c87e-4ee0-9a93-7f5704931b82/WebScraped_Data/Nylon Compounders & Polyamide Compounders_43_Nexeoplastics.txt',\n",
       " 's3://webpages-bucket-22d2c932-c87e-4ee0-9a93-7f5704931b82/WebScraped_Data/Nylon Compounders & Polyamide Compounders_43_Nexeoplastics.txt']"
      ]
     },
     "execution_count": 22,
     "metadata": {},
     "output_type": "execute_result"
    }
   ],
   "source": [
    "context_source"
   ]
  },
  {
   "cell_type": "code",
   "execution_count": null,
   "id": "71254e40",
   "metadata": {},
   "outputs": [],
   "source": []
  }
 ],
 "metadata": {
  "kernelspec": {
   "display_name": "conda_python3",
   "language": "python",
   "name": "conda_python3"
  },
  "language_info": {
   "codemirror_mode": {
    "name": "ipython",
    "version": 3
   },
   "file_extension": ".py",
   "mimetype": "text/x-python",
   "name": "python",
   "nbconvert_exporter": "python",
   "pygments_lexer": "ipython3",
   "version": "3.10.14"
  }
 },
 "nbformat": 4,
 "nbformat_minor": 5
}
