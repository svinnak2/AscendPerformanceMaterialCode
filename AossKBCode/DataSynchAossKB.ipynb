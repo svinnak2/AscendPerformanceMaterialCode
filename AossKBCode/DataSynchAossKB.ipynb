{
 "cells": [
  {
   "cell_type": "code",
   "execution_count": 18,
   "id": "b0dbb247",
   "metadata": {},
   "outputs": [],
   "source": [
    "import json\n",
    "import os\n",
    "import boto3\n",
    "import pprint as pp\n",
    "from retrying import retry\n",
    "import time\n",
    "\n",
    "boto3_session = boto3.session.Session()\n",
    "region_name = boto3_session.region_name\n",
    "bedrock_agent_client = boto3_session.client('bedrock-agent', region_name=region_name)"
   ]
  },
  {
   "cell_type": "code",
   "execution_count": 19,
   "id": "0d55682c",
   "metadata": {},
   "outputs": [],
   "source": [
    "kb_id = \"EJBFJDIJ\""
   ]
  },
  {
   "cell_type": "code",
   "execution_count": 20,
   "id": "a2ef65a3",
   "metadata": {},
   "outputs": [],
   "source": [
    "# Get DataSource \n",
    "ds_id = \"HKSEP30F\""
   ]
  },
  {
   "cell_type": "code",
   "execution_count": 21,
   "id": "87d48607",
   "metadata": {},
   "outputs": [
    {
     "data": {
      "text/plain": [
       "{'ResponseMetadata': {'RequestId': '441c4868-2d14-48dc-b7b5-02a1f6c5d69b',\n",
       "  'HTTPStatusCode': 200,\n",
       "  'HTTPHeaders': {'date': 'Mon, 24 Jun 2024 21:42:04 GMT',\n",
       "   'content-type': 'application/json',\n",
       "   'content-length': '657',\n",
       "   'connection': 'keep-alive',\n",
       "   'x-amzn-requestid': '441c4868-2d14-48dc-b7b5-02a1f6c5d69b',\n",
       "   'x-amz-apigw-id': 'Z5E27Fk5oAMEHJw=',\n",
       "   'x-amzn-trace-id': 'Root=1-6679e82c-006bf7fe15b8eaeb78967b09'},\n",
       "  'RetryAttempts': 0},\n",
       " 'dataSource': {'createdAt': datetime.datetime(2024, 6, 19, 15, 56, 32, 39814, tzinfo=tzlocal()),\n",
       "  'dataDeletionPolicy': 'DELETE',\n",
       "  'dataSourceConfiguration': {'s3Configuration': {'bucketArn': 'arn:aws:s3:::webpages-bucket-22d2c932-c87e-4ee0-9a93-7f5704931b82',\n",
       "    'inclusionPrefixes': ['WebScraped_Data/']},\n",
       "   'type': 'S3'},\n",
       "  'dataSourceId': 'HKSEPHM30F',\n",
       "  'description': 'Ascend Performance Materials Websearch Knowledge base',\n",
       "  'knowledgeBaseId': 'EJBFFIJDIJ',\n",
       "  'name': 'ascend-kb-multi',\n",
       "  'status': 'AVAILABLE',\n",
       "  'updatedAt': datetime.datetime(2024, 6, 19, 15, 56, 32, 39814, tzinfo=tzlocal()),\n",
       "  'vectorIngestionConfiguration': {'chunkingConfiguration': {'chunkingStrategy': 'FIXED_SIZE',\n",
       "    'fixedSizeChunkingConfiguration': {'maxTokens': 900,\n",
       "     'overlapPercentage': 20}}}}}"
      ]
     },
     "execution_count": 21,
     "metadata": {},
     "output_type": "execute_result"
    }
   ],
   "source": [
    "bedrock_agent_client.get_data_source(knowledgeBaseId = kb_id, dataSourceId = ds_id)"
   ]
  },
  {
   "cell_type": "code",
   "execution_count": 22,
   "id": "f6477f46",
   "metadata": {},
   "outputs": [],
   "source": [
    "# Start an ingestion job\n",
    "start_job_response = bedrock_agent_client.start_ingestion_job(knowledgeBaseId = kb_id, dataSourceId = ds_id)"
   ]
  },
  {
   "cell_type": "code",
   "execution_count": 23,
   "id": "b552a5e5",
   "metadata": {},
   "outputs": [
    {
     "name": "stdout",
     "output_type": "stream",
     "text": [
      "{'dataSourceId': 'HKSEPHM30F',\n",
      " 'ingestionJobId': 'PAGGKR9MAT',\n",
      " 'knowledgeBaseId': 'EJBFFIJDIJ',\n",
      " 'startedAt': datetime.datetime(2024, 6, 24, 21, 42, 5, 568248, tzinfo=tzlocal()),\n",
      " 'statistics': {'numberOfDocumentsDeleted': 0,\n",
      "                'numberOfDocumentsFailed': 0,\n",
      "                'numberOfDocumentsScanned': 0,\n",
      "                'numberOfMetadataDocumentsModified': 0,\n",
      "                'numberOfMetadataDocumentsScanned': 0,\n",
      "                'numberOfModifiedDocumentsIndexed': 0,\n",
      "                'numberOfNewDocumentsIndexed': 0},\n",
      " 'status': 'STARTING',\n",
      " 'updatedAt': datetime.datetime(2024, 6, 24, 21, 42, 5, 568248, tzinfo=tzlocal())}\n"
     ]
    }
   ],
   "source": [
    "job = start_job_response[\"ingestionJob\"]\n",
    "pp.pprint(job)"
   ]
  },
  {
   "cell_type": "code",
   "execution_count": 24,
   "id": "1c8fcbc6",
   "metadata": {},
   "outputs": [
    {
     "name": "stdout",
     "output_type": "stream",
     "text": [
      "{'dataSourceId': 'HKSEPHM30F',\n",
      " 'failureReasons': ['[\"Ignored 1 files as they were larger than service limit '\n",
      "                    'of MaximumFileSizeSupported: 52428800 bytes\"]'],\n",
      " 'ingestionJobId': 'PAGGKR9MAT',\n",
      " 'knowledgeBaseId': 'EJBFFIJDIJ',\n",
      " 'startedAt': datetime.datetime(2024, 6, 24, 21, 42, 5, 568248, tzinfo=tzlocal()),\n",
      " 'statistics': {'numberOfDocumentsDeleted': 256,\n",
      "                'numberOfDocumentsFailed': 0,\n",
      "                'numberOfDocumentsScanned': 748,\n",
      "                'numberOfMetadataDocumentsModified': 0,\n",
      "                'numberOfMetadataDocumentsScanned': 0,\n",
      "                'numberOfModifiedDocumentsIndexed': 0,\n",
      "                'numberOfNewDocumentsIndexed': 0},\n",
      " 'status': 'COMPLETE',\n",
      " 'updatedAt': datetime.datetime(2024, 6, 24, 21, 44, 40, 372671, tzinfo=tzlocal())}\n"
     ]
    }
   ],
   "source": [
    "# Get job \n",
    "while(job['status']!='COMPLETE' ):\n",
    "  get_job_response = bedrock_agent_client.get_ingestion_job(\n",
    "      knowledgeBaseId = kb_id,\n",
    "        dataSourceId = ds_id,\n",
    "        ingestionJobId = job[\"ingestionJobId\"]\n",
    "  )\n",
    "  job = get_job_response[\"ingestionJob\"]\n",
    "pp.pprint(job)\n",
    "time.sleep(40)"
   ]
  },
  {
   "cell_type": "code",
   "execution_count": null,
   "id": "cba9bd58",
   "metadata": {},
   "outputs": [],
   "source": []
  }
 ],
 "metadata": {
  "kernelspec": {
   "display_name": "conda_python3",
   "language": "python",
   "name": "conda_python3"
  },
  "language_info": {
   "codemirror_mode": {
    "name": "ipython",
    "version": 3
   },
   "file_extension": ".py",
   "mimetype": "text/x-python",
   "name": "python",
   "nbconvert_exporter": "python",
   "pygments_lexer": "ipython3",
   "version": "3.10.14"
  }
 },
 "nbformat": 4,
 "nbformat_minor": 5
}
