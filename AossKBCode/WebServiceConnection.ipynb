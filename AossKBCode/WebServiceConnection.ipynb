{
 "cells": [
  {
   "cell_type": "code",
   "execution_count": 2,
   "id": "06efa319-f241-4fea-9858-b3e6d0815467",
   "metadata": {},
   "outputs": [
    {
     "name": "stdout",
     "output_type": "stream",
     "text": [
      "Collecting zeep\n",
      "  Downloading zeep-4.2.1-py3-none-any.whl.metadata (3.5 kB)\n",
      "Requirement already satisfied: attrs>=17.2.0 in /opt/conda/lib/python3.10/site-packages (from zeep) (23.2.0)\n",
      "Collecting isodate>=0.5.4 (from zeep)\n",
      "  Downloading isodate-0.6.1-py2.py3-none-any.whl.metadata (9.6 kB)\n",
      "Requirement already satisfied: lxml>=4.6.0 in /opt/conda/lib/python3.10/site-packages (from zeep) (4.9.4)\n",
      "Requirement already satisfied: platformdirs>=1.4.0 in /opt/conda/lib/python3.10/site-packages (from zeep) (4.2.2)\n",
      "Requirement already satisfied: requests>=2.7.0 in /opt/conda/lib/python3.10/site-packages (from zeep) (2.32.3)\n",
      "Collecting requests-toolbelt>=0.7.1 (from zeep)\n",
      "  Downloading requests_toolbelt-1.0.0-py2.py3-none-any.whl.metadata (14 kB)\n",
      "Collecting requests-file>=1.5.1 (from zeep)\n",
      "  Downloading requests_file-2.1.0-py2.py3-none-any.whl.metadata (1.7 kB)\n",
      "Requirement already satisfied: pytz in /opt/conda/lib/python3.10/site-packages (from zeep) (2023.3)\n",
      "Requirement already satisfied: six in /opt/conda/lib/python3.10/site-packages (from isodate>=0.5.4->zeep) (1.16.0)\n",
      "Requirement already satisfied: charset-normalizer<4,>=2 in /opt/conda/lib/python3.10/site-packages (from requests>=2.7.0->zeep) (3.3.2)\n",
      "Requirement already satisfied: idna<4,>=2.5 in /opt/conda/lib/python3.10/site-packages (from requests>=2.7.0->zeep) (3.7)\n",
      "Requirement already satisfied: urllib3<3,>=1.21.1 in /opt/conda/lib/python3.10/site-packages (from requests>=2.7.0->zeep) (1.26.19)\n",
      "Requirement already satisfied: certifi>=2017.4.17 in /opt/conda/lib/python3.10/site-packages (from requests>=2.7.0->zeep) (2024.7.4)\n",
      "Downloading zeep-4.2.1-py3-none-any.whl (101 kB)\n",
      "\u001b[2K   \u001b[90m━━━━━━━━━━━━━━━━━━━━━━━━━━━━━━━━━━━━━━━━\u001b[0m \u001b[32m101.2/101.2 kB\u001b[0m \u001b[31m11.0 MB/s\u001b[0m eta \u001b[36m0:00:00\u001b[0m\n",
      "\u001b[?25hDownloading isodate-0.6.1-py2.py3-none-any.whl (41 kB)\n",
      "\u001b[2K   \u001b[90m━━━━━━━━━━━━━━━━━━━━━━━━━━━━━━━━━━━━━━━━\u001b[0m \u001b[32m41.7/41.7 kB\u001b[0m \u001b[31m6.2 MB/s\u001b[0m eta \u001b[36m0:00:00\u001b[0m\n",
      "\u001b[?25hDownloading requests_file-2.1.0-py2.py3-none-any.whl (4.2 kB)\n",
      "Downloading requests_toolbelt-1.0.0-py2.py3-none-any.whl (54 kB)\n",
      "\u001b[2K   \u001b[90m━━━━━━━━━━━━━━━━━━━━━━━━━━━━━━━━━━━━━━━━\u001b[0m \u001b[32m54.5/54.5 kB\u001b[0m \u001b[31m8.1 MB/s\u001b[0m eta \u001b[36m0:00:00\u001b[0m\n",
      "\u001b[?25hInstalling collected packages: isodate, requests-toolbelt, requests-file, zeep\n",
      "Successfully installed isodate-0.6.1 requests-file-2.1.0 requests-toolbelt-1.0.0 zeep-4.2.1\n",
      "Note: you may need to restart the kernel to use updated packages.\n"
     ]
    }
   ],
   "source": [
    "pip install zeep"
   ]
  },
  {
   "cell_type": "code",
   "execution_count": 12,
   "id": "c8373d6c-2106-4e7d-9c81-7f73025fbd35",
   "metadata": {},
   "outputs": [],
   "source": [
    "import zeep\n",
    "from zeep.wsse.username import UsernameToken"
   ]
  },
  {
   "cell_type": "code",
   "execution_count": 4,
   "id": "8d59a871-a90e-498e-9a34-f0066db83845",
   "metadata": {},
   "outputs": [],
   "source": [
    "# WSDL URL for the SOAP service\n",
    "wsdl = 'http://www.dneonline.com/calculator.asmx?WSDL'"
   ]
  },
  {
   "cell_type": "code",
   "execution_count": 5,
   "id": "52a8121b-3c2b-4db6-b690-d5278bf2c48f",
   "metadata": {},
   "outputs": [],
   "source": [
    "# Create a client\n",
    "client = zeep.Client(wsdl=wsdl)"
   ]
  },
  {
   "cell_type": "code",
   "execution_count": 6,
   "id": "cbf6015b-eb73-443a-a772-5d83d38a83e5",
   "metadata": {},
   "outputs": [],
   "source": [
    "# Call the 'Add' operation with two parameters\n",
    "response = client.service.Add(intA=10, intB=20)"
   ]
  },
  {
   "cell_type": "code",
   "execution_count": 7,
   "id": "7abccac9-f062-473f-a0c9-411d8f2d96e8",
   "metadata": {},
   "outputs": [
    {
     "name": "stdout",
     "output_type": "stream",
     "text": [
      "The result of the addition is: 30\n"
     ]
    }
   ],
   "source": [
    "# Print the response\n",
    "print(f\"The result of the addition is: {response}\")"
   ]
  },
  {
   "cell_type": "code",
   "execution_count": 15,
   "id": "17354cdb-e87a-459d-a4f5-f087571fe858",
   "metadata": {},
   "outputs": [],
   "source": [
    "# Username and password\n",
    "username = 'saisantoshv'\n",
    "password = 'dXxrnn0xBbDcUzCU3k7a'"
   ]
  },
  {
   "cell_type": "code",
   "execution_count": 16,
   "id": "7965e6ed-5865-4848-921b-fe8d5499f96a",
   "metadata": {},
   "outputs": [],
   "source": [
    "ffiec_wsdl = 'https://cdr.ffiec.gov/public/pws/webservices/retrievalservice.asmx?WSDL'"
   ]
  },
  {
   "cell_type": "code",
   "execution_count": 19,
   "id": "1ad0d4ed-b8f8-4ace-8007-8e5931decc0a",
   "metadata": {},
   "outputs": [],
   "source": [
    "# Create a client\n",
    "ffiec_client = zeep.Client(wsdl=ffiec_wsdl, wsse=UsernameToken(username, password))"
   ]
  },
  {
   "cell_type": "code",
   "execution_count": 34,
   "id": "5c70505d-c7ae-4c94-a4d6-6334e056e0a2",
   "metadata": {},
   "outputs": [
    {
     "ename": "Fault",
     "evalue": "Server was unable to process request. ---> Object reference not set to an instance of an object.",
     "output_type": "error",
     "traceback": [
      "\u001b[0;31m---------------------------------------------------------------------------\u001b[0m",
      "\u001b[0;31mFault\u001b[0m                                     Traceback (most recent call last)",
      "Cell \u001b[0;32mIn[34], line 2\u001b[0m\n\u001b[1;32m      1\u001b[0m \u001b[38;5;66;03m# Call the 'Add' operation with two parameters\u001b[39;00m\n\u001b[0;32m----> 2\u001b[0m response \u001b[38;5;241m=\u001b[39m \u001b[43mffiec_client\u001b[49m\u001b[38;5;241;43m.\u001b[39;49m\u001b[43mservice\u001b[49m\u001b[38;5;241;43m.\u001b[39;49m\u001b[43mTestUserAccess\u001b[49m\u001b[43m(\u001b[49m\u001b[43m)\u001b[49m\n",
      "File \u001b[0;32m/opt/conda/lib/python3.10/site-packages/zeep/proxy.py:46\u001b[0m, in \u001b[0;36mOperationProxy.__call__\u001b[0;34m(self, *args, **kwargs)\u001b[0m\n\u001b[1;32m     43\u001b[0m \u001b[38;5;28;01mif\u001b[39;00m soap_headers:\n\u001b[1;32m     44\u001b[0m     kwargs[\u001b[38;5;124m\"\u001b[39m\u001b[38;5;124m_soapheaders\u001b[39m\u001b[38;5;124m\"\u001b[39m] \u001b[38;5;241m=\u001b[39m soap_headers\n\u001b[0;32m---> 46\u001b[0m \u001b[38;5;28;01mreturn\u001b[39;00m \u001b[38;5;28;43mself\u001b[39;49m\u001b[38;5;241;43m.\u001b[39;49m\u001b[43m_proxy\u001b[49m\u001b[38;5;241;43m.\u001b[39;49m\u001b[43m_binding\u001b[49m\u001b[38;5;241;43m.\u001b[39;49m\u001b[43msend\u001b[49m\u001b[43m(\u001b[49m\n\u001b[1;32m     47\u001b[0m \u001b[43m    \u001b[49m\u001b[38;5;28;43mself\u001b[39;49m\u001b[38;5;241;43m.\u001b[39;49m\u001b[43m_proxy\u001b[49m\u001b[38;5;241;43m.\u001b[39;49m\u001b[43m_client\u001b[49m\u001b[43m,\u001b[49m\n\u001b[1;32m     48\u001b[0m \u001b[43m    \u001b[49m\u001b[38;5;28;43mself\u001b[39;49m\u001b[38;5;241;43m.\u001b[39;49m\u001b[43m_proxy\u001b[49m\u001b[38;5;241;43m.\u001b[39;49m\u001b[43m_binding_options\u001b[49m\u001b[43m,\u001b[49m\n\u001b[1;32m     49\u001b[0m \u001b[43m    \u001b[49m\u001b[38;5;28;43mself\u001b[39;49m\u001b[38;5;241;43m.\u001b[39;49m\u001b[43m_op_name\u001b[49m\u001b[43m,\u001b[49m\n\u001b[1;32m     50\u001b[0m \u001b[43m    \u001b[49m\u001b[43margs\u001b[49m\u001b[43m,\u001b[49m\n\u001b[1;32m     51\u001b[0m \u001b[43m    \u001b[49m\u001b[43mkwargs\u001b[49m\u001b[43m,\u001b[49m\n\u001b[1;32m     52\u001b[0m \u001b[43m\u001b[49m\u001b[43m)\u001b[49m\n",
      "File \u001b[0;32m/opt/conda/lib/python3.10/site-packages/zeep/wsdl/bindings/soap.py:135\u001b[0m, in \u001b[0;36mSoapBinding.send\u001b[0;34m(self, client, options, operation, args, kwargs)\u001b[0m\n\u001b[1;32m    132\u001b[0m \u001b[38;5;28;01mif\u001b[39;00m client\u001b[38;5;241m.\u001b[39msettings\u001b[38;5;241m.\u001b[39mraw_response:\n\u001b[1;32m    133\u001b[0m     \u001b[38;5;28;01mreturn\u001b[39;00m response\n\u001b[0;32m--> 135\u001b[0m \u001b[38;5;28;01mreturn\u001b[39;00m \u001b[38;5;28;43mself\u001b[39;49m\u001b[38;5;241;43m.\u001b[39;49m\u001b[43mprocess_reply\u001b[49m\u001b[43m(\u001b[49m\u001b[43mclient\u001b[49m\u001b[43m,\u001b[49m\u001b[43m \u001b[49m\u001b[43moperation_obj\u001b[49m\u001b[43m,\u001b[49m\u001b[43m \u001b[49m\u001b[43mresponse\u001b[49m\u001b[43m)\u001b[49m\n",
      "File \u001b[0;32m/opt/conda/lib/python3.10/site-packages/zeep/wsdl/bindings/soap.py:229\u001b[0m, in \u001b[0;36mSoapBinding.process_reply\u001b[0;34m(self, client, operation, response)\u001b[0m\n\u001b[1;32m    227\u001b[0m fault_node \u001b[38;5;241m=\u001b[39m doc\u001b[38;5;241m.\u001b[39mfind(\u001b[38;5;124m\"\u001b[39m\u001b[38;5;124msoap-env:Body/soap-env:Fault\u001b[39m\u001b[38;5;124m\"\u001b[39m, namespaces\u001b[38;5;241m=\u001b[39m\u001b[38;5;28mself\u001b[39m\u001b[38;5;241m.\u001b[39mnsmap)\n\u001b[1;32m    228\u001b[0m \u001b[38;5;28;01mif\u001b[39;00m response\u001b[38;5;241m.\u001b[39mstatus_code \u001b[38;5;241m!=\u001b[39m \u001b[38;5;241m200\u001b[39m \u001b[38;5;129;01mor\u001b[39;00m fault_node \u001b[38;5;129;01mis\u001b[39;00m \u001b[38;5;129;01mnot\u001b[39;00m \u001b[38;5;28;01mNone\u001b[39;00m:\n\u001b[0;32m--> 229\u001b[0m     \u001b[38;5;28;01mreturn\u001b[39;00m \u001b[38;5;28;43mself\u001b[39;49m\u001b[38;5;241;43m.\u001b[39;49m\u001b[43mprocess_error\u001b[49m\u001b[43m(\u001b[49m\u001b[43mdoc\u001b[49m\u001b[43m,\u001b[49m\u001b[43m \u001b[49m\u001b[43moperation\u001b[49m\u001b[43m)\u001b[49m\n\u001b[1;32m    231\u001b[0m result \u001b[38;5;241m=\u001b[39m operation\u001b[38;5;241m.\u001b[39mprocess_reply(doc)\n\u001b[1;32m    233\u001b[0m \u001b[38;5;28;01mif\u001b[39;00m message_pack:\n",
      "File \u001b[0;32m/opt/conda/lib/python3.10/site-packages/zeep/wsdl/bindings/soap.py:329\u001b[0m, in \u001b[0;36mSoap11Binding.process_error\u001b[0;34m(self, doc, operation)\u001b[0m\n\u001b[1;32m    326\u001b[0m     \u001b[38;5;28;01mif\u001b[39;00m child \u001b[38;5;129;01mis\u001b[39;00m \u001b[38;5;129;01mnot\u001b[39;00m \u001b[38;5;28;01mNone\u001b[39;00m:\n\u001b[1;32m    327\u001b[0m         \u001b[38;5;28;01mreturn\u001b[39;00m child\u001b[38;5;241m.\u001b[39mtext\n\u001b[0;32m--> 329\u001b[0m \u001b[38;5;28;01mraise\u001b[39;00m Fault(\n\u001b[1;32m    330\u001b[0m     message\u001b[38;5;241m=\u001b[39mget_text(\u001b[38;5;124m\"\u001b[39m\u001b[38;5;124mfaultstring\u001b[39m\u001b[38;5;124m\"\u001b[39m),\n\u001b[1;32m    331\u001b[0m     code\u001b[38;5;241m=\u001b[39mget_text(\u001b[38;5;124m\"\u001b[39m\u001b[38;5;124mfaultcode\u001b[39m\u001b[38;5;124m\"\u001b[39m),\n\u001b[1;32m    332\u001b[0m     actor\u001b[38;5;241m=\u001b[39mget_text(\u001b[38;5;124m\"\u001b[39m\u001b[38;5;124mfaultactor\u001b[39m\u001b[38;5;124m\"\u001b[39m),\n\u001b[1;32m    333\u001b[0m     detail\u001b[38;5;241m=\u001b[39mfault_node\u001b[38;5;241m.\u001b[39mfind(\u001b[38;5;124m\"\u001b[39m\u001b[38;5;124mdetail\u001b[39m\u001b[38;5;124m\"\u001b[39m, namespaces\u001b[38;5;241m=\u001b[39mfault_node\u001b[38;5;241m.\u001b[39mnsmap),\n\u001b[1;32m    334\u001b[0m )\n",
      "\u001b[0;31mFault\u001b[0m: Server was unable to process request. ---> Object reference not set to an instance of an object."
     ]
    }
   ],
   "source": [
    "# Call the 'Add' operation with two parameters\n",
    "response = ffiec_client.service.TestUserAccess()"
   ]
  },
  {
   "cell_type": "code",
   "execution_count": 30,
   "id": "38af41c9-edb5-4a79-bda1-59eeb2ead4d2",
   "metadata": {},
   "outputs": [
    {
     "name": "stdout",
     "output_type": "stream",
     "text": [
      "<zeep.proxy.OperationProxy object at 0x7f44f9129ea0>\n"
     ]
    }
   ],
   "source": [
    "print(response)"
   ]
  },
  {
   "cell_type": "code",
   "execution_count": 32,
   "id": "d382adff-da36-4e9c-b2f5-749176441f86",
   "metadata": {},
   "outputs": [],
   "source": [
    "# Call the 'Add' operation with two parameters\n",
    "response = ffiec_client.service.RetrievePanelOfReporters"
   ]
  },
  {
   "cell_type": "code",
   "execution_count": 33,
   "id": "188acf7c-4a9f-440e-b3fa-f353a981d784",
   "metadata": {},
   "outputs": [
    {
     "name": "stdout",
     "output_type": "stream",
     "text": [
      "<zeep.proxy.OperationProxy object at 0x7f44f912a500>\n"
     ]
    }
   ],
   "source": [
    "print(response)"
   ]
  },
  {
   "cell_type": "code",
   "execution_count": null,
   "id": "212cc47b-0fc9-4025-b603-081fa9ee8879",
   "metadata": {},
   "outputs": [],
   "source": []
  }
 ],
 "metadata": {
  "kernelspec": {
   "display_name": "Python 3 (ipykernel)",
   "language": "python",
   "name": "python3"
  },
  "language_info": {
   "codemirror_mode": {
    "name": "ipython",
    "version": 3
   },
   "file_extension": ".py",
   "mimetype": "text/x-python",
   "name": "python",
   "nbconvert_exporter": "python",
   "pygments_lexer": "ipython3",
   "version": "3.10.14"
  }
 },
 "nbformat": 4,
 "nbformat_minor": 5
}
