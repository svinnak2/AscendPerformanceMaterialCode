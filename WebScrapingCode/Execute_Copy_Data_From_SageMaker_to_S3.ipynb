{
 "cells": [
  {
   "cell_type": "code",
   "execution_count": 2,
   "id": "ecaf70cb",
   "metadata": {},
   "outputs": [
    {
     "name": "stdout",
     "output_type": "stream",
     "text": [
      "Starting Copying job Nylon & Polyamide injection molders at: 2024-06-24 21:18:39\n",
      "s3 Path: WebScraped_Data/\n",
      "It took 5.058447519938151e-06 minutes to copy the data from SageMaker to S3\n",
      "Starting Copying job Plastic Profile Extruders at: 2024-06-24 21:18:39\n",
      "s3 Path: WebScraped_Data/\n",
      "It took 1.0768572489420573e-06 minutes to copy the data from SageMaker to S3\n",
      "Starting Copying job Plastic Sheet extruders at: 2024-06-24 21:18:39\n",
      "s3 Path: WebScraped_Data/\n",
      "It took 9.61621602376302e-07 minutes to copy the data from SageMaker to S3\n",
      "Starting Copying job Recycled carpet fibers applications at: 2024-06-24 21:18:39\n",
      "s3 Path: WebScraped_Data/\n",
      "It took 9.5367431640625e-07 minutes to copy the data from SageMaker to S3\n",
      "Starting Copying job Nylon Compounders & Polyamide Compounders at: 2024-06-24 21:18:39\n",
      "s3 Path: WebScraped_Data/\n",
      "It took 1.5377998352050782e-06 minutes to copy the data from SageMaker to S3\n",
      "Starting Copying job Revised Search Terms at: 2024-06-24 21:18:39\n",
      "s3 Path: WebScraped_Data/\n",
      "It took 0.25799016157786053 minutes to copy the data from SageMaker to S3\n"
     ]
    }
   ],
   "source": [
    "%run Copy_Data_From_SageMaker_to_S3.py"
   ]
  },
  {
   "cell_type": "code",
   "execution_count": null,
   "id": "cac29702",
   "metadata": {},
   "outputs": [],
   "source": []
  }
 ],
 "metadata": {
  "kernelspec": {
   "display_name": "conda_python3",
   "language": "python",
   "name": "conda_python3"
  },
  "language_info": {
   "codemirror_mode": {
    "name": "ipython",
    "version": 3
   },
   "file_extension": ".py",
   "mimetype": "text/x-python",
   "name": "python",
   "nbconvert_exporter": "python",
   "pygments_lexer": "ipython3",
   "version": "3.10.14"
  }
 },
 "nbformat": 4,
 "nbformat_minor": 5
}
