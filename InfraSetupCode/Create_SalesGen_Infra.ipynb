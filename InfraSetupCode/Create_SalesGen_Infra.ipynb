{
 "cells": [
  {
   "cell_type": "code",
   "execution_count": 1,
   "id": "7942b6fe",
   "metadata": {},
   "outputs": [
    {
     "data": {
      "text/plain": [
       "' \\n\\nThis code is used to create infrastruture setup in AWS S3 and SageMaker in support of Data Pipeline and LLM/RAG.\\nThis code should be executed first.\\n\\n'"
      ]
     },
     "execution_count": 1,
     "metadata": {},
     "output_type": "execute_result"
    }
   ],
   "source": [
    "\"\"\" \n",
    "\n",
    "This code is used to create infrastruture setup in AWS S3 and SageMaker in support of Data Pipeline and LLM/RAG.\n",
    "This code should be executed first.\n",
    "\n",
    "\"\"\""
   ]
  },
  {
   "cell_type": "code",
   "execution_count": 21,
   "id": "83150ac2",
   "metadata": {},
   "outputs": [],
   "source": [
    "from infrasetup import create_folder_in_s3, create_folder_in_sm"
   ]
  },
  {
   "cell_type": "code",
   "execution_count": 22,
   "id": "8dca819e",
   "metadata": {},
   "outputs": [
    {
     "name": "stdout",
     "output_type": "stream",
     "text": [
      "Folder \"WebScrapedUpdatedApproach\" already exists in bucket \"webpages-bucket-22d2c932-c87e-4ee0-9a93-7f5704931b82\".\n",
      "\n",
      "Folder \"SalesLeadsUpdatedApproach\" already exists in bucket \"webpages-bucket-22d2c932-c87e-4ee0-9a93-7f5704931b82\".\n",
      "\n"
     ]
    }
   ],
   "source": [
    "\"\"\"\n",
    "Create the following folders in AWS S3 Bucket\n",
    "\n",
    "Sales_Leads_Directory\n",
    "WebScraped_Data\n",
    "\n",
    "\"\"\"\n",
    "bucket_name = \"webpages-bucket-22d2c932-c87e-4ee0-9a93-7f5704931b82\"\n",
    "\n",
    "#Create Web Scraped Data folder in S3\n",
    "create_folder_in_s3(bucket_name, \"WebScrapedUpdatedApproach\")\n",
    "\n",
    "#Create Web Scraped Data folder in S3\n",
    "create_folder_in_s3(bucket_name, \"SalesLeadsUpdatedApproach\")"
   ]
  },
  {
   "cell_type": "code",
   "execution_count": 23,
   "id": "176c12f4",
   "metadata": {},
   "outputs": [],
   "source": [
    "# Initialize variables to create main folders"
   ]
  },
  {
   "cell_type": "code",
   "execution_count": 24,
   "id": "0c4cbdfe",
   "metadata": {},
   "outputs": [],
   "source": [
    "ROOT_DIR = \"/home/ec2-user/SageMaker/AscendNB/\"\n",
    "NEW_DIR = \"WebScrapedUpdatedApproach/\"\n",
    "WSC = \"WebScrapingCode\"\n",
    "CMD = \"CodeExecutionMetrics\"\n",
    "SLD = \"SalesLeadData\"\n",
    "TRL = \"Testing_RAG_LLMs\"\n",
    "GUI = \"GradioUI\""
   ]
  },
  {
   "cell_type": "code",
   "execution_count": 25,
   "id": "bc6dc3e5",
   "metadata": {},
   "outputs": [
    {
     "name": "stdout",
     "output_type": "stream",
     "text": [
      "Directory 'WebScrapedUpdatedApproach/' already exists.\n",
      " \n",
      "Directory 'WebScrapingCode' already exists.\n",
      " \n",
      "Directory 'CodeExecutionMetrics' already exists.\n",
      " \n",
      "Directory 'SalesLeadData' already exists.\n",
      " \n",
      "Directory 'Testing_RAG_LLMs' already exists.\n",
      " \n",
      "Directory 'GradioUI' already exists.\n",
      " \n"
     ]
    }
   ],
   "source": [
    "create_folder_in_sm(ROOT_DIR, NEW_DIR)\n",
    "create_folder_in_sm(ROOT_DIR, WSC)\n",
    "create_folder_in_sm(ROOT_DIR, CMD)\n",
    "create_folder_in_sm(ROOT_DIR, SLD)\n",
    "create_folder_in_sm(ROOT_DIR, TRL)\n",
    "create_folder_in_sm(ROOT_DIR, GUI)"
   ]
  },
  {
   "cell_type": "code",
   "execution_count": 26,
   "id": "aaf6e82c",
   "metadata": {},
   "outputs": [],
   "source": [
    "# Initialize variables to create Subfolders to save the scraped internet data"
   ]
  },
  {
   "cell_type": "code",
   "execution_count": 27,
   "id": "ba4d355a",
   "metadata": {},
   "outputs": [],
   "source": [
    "WebScrapedData = \"/home/ec2-user/SageMaker/AscendNB/WebScrapedUpdatedApproach/\"\n",
    "WebScrapedSubFolders = [\"Nylon_Polyamide_injection_molders\", \"Plastic_Profile_Extruders\", \"Plastic_Sheet_Extruders\", \"Recycled_carpet_fibers_applications\", \"Nylon_Compounders_Polyamide_Compounders\", \"Revised_Search_Terms\"]"
   ]
  },
  {
   "cell_type": "code",
   "execution_count": 28,
   "id": "a6f36f09",
   "metadata": {},
   "outputs": [
    {
     "name": "stdout",
     "output_type": "stream",
     "text": [
      "Nylon_Polyamide_injection_molders\n",
      "Directory 'Nylon_Polyamide_injection_molders' already exists.\n",
      " \n",
      "Plastic_Profile_Extruders\n",
      "Directory 'Plastic_Profile_Extruders' already exists.\n",
      " \n",
      "Plastic_Sheet_Extruders\n",
      "Directory 'Plastic_Sheet_Extruders' already exists.\n",
      " \n",
      "Recycled_carpet_fibers_applications\n",
      "Directory 'Recycled_carpet_fibers_applications' already exists.\n",
      " \n",
      "Nylon_Compounders_Polyamide_Compounders\n",
      "Directory 'Nylon_Compounders_Polyamide_Compounders' already exists.\n",
      " \n",
      "Revised_Search_Terms\n",
      "Directory 'Revised_Search_Terms' created.\n",
      " \n"
     ]
    }
   ],
   "source": [
    "for WSSF in WebScrapedSubFolders:\n",
    "    print(WSSF)\n",
    "    create_folder_in_sm(WebScrapedData, WSSF)"
   ]
  },
  {
   "cell_type": "code",
   "execution_count": null,
   "id": "f8bd494f",
   "metadata": {},
   "outputs": [],
   "source": []
  }
 ],
 "metadata": {
  "kernelspec": {
   "display_name": "conda_python3",
   "language": "python",
   "name": "conda_python3"
  },
  "language_info": {
   "codemirror_mode": {
    "name": "ipython",
    "version": 3
   },
   "file_extension": ".py",
   "mimetype": "text/x-python",
   "name": "python",
   "nbconvert_exporter": "python",
   "pygments_lexer": "ipython3",
   "version": "3.10.14"
  }
 },
 "nbformat": 4,
 "nbformat_minor": 5
}
