{
 "cells": [
  {
   "cell_type": "code",
   "execution_count": 12,
   "id": "42dd207b",
   "metadata": {},
   "outputs": [
    {
     "name": "stdout",
     "output_type": "stream",
     "text": [
      "Source directory from which Sales Generation Leads files are extracted: /home/ec2-user/SageMaker/AscendNotebook/SalesLeadData/\n",
      "Finished placing Sales Generation Lead directory file \"CombinedSalesLeads.csv\" in webpages-bucket-22d2c932-c87e-4ee0-9a93-7f5704931b82/Sales_Leads_Directory\n"
     ]
    }
   ],
   "source": [
    "%run Copy_SalesLeads_to_S3.py"
   ]
  }
 ],
 "metadata": {
  "kernelspec": {
   "display_name": "conda_python3",
   "language": "python",
   "name": "conda_python3"
  },
  "language_info": {
   "codemirror_mode": {
    "name": "ipython",
    "version": 3
   },
   "file_extension": ".py",
   "mimetype": "text/x-python",
   "name": "python",
   "nbconvert_exporter": "python",
   "pygments_lexer": "ipython3",
   "version": "3.10.14"
  }
 },
 "nbformat": 4,
 "nbformat_minor": 5
}
